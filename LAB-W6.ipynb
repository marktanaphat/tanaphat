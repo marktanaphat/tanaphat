{
 "cells": [
  {
   "cell_type": "code",
   "execution_count": 9,
   "id": "ed7a8b70",
   "metadata": {},
   "outputs": [
    {
     "name": "stdout",
     "output_type": "stream",
     "text": [
      "Perfect BST of given height : \n",
      " \n",
      "      ____6_____\n",
      "     /          \\\n",
      "  __3__         _12___\n",
      " /     \\       /      \\\n",
      "0       5     11      _14\n",
      " \\     /     /       /\n",
      "  2   4     7       13\n",
      "\n"
     ]
    }
   ],
   "source": [
    "#การประยุกต์ใช้โครงสร้างต้นไม้กับ Tree data structure\n",
    "#1. ผลรวม คู่อันดับก่อนหน้าและลำดับตามหลัง root\n",
    "#2. ผลรวมของ ต้นไม้ทั้งต้น\n",
    "#3. ผลรวมของ N ลำดับก่อนหน้า ลำดับตามหลัง ของการท่องต้นไม้แบบตามลำดับ\n",
    "#4. ผลรวมของ กิ่งซ้ายสุด และ กิ่งขวาสุด ของต้นไม้\n",
    "\n",
    "\n",
    "\n",
    "from binarytree import bst\n",
    "root = bst(height = 3)\n",
    "print('Perfect BST of given height : \\n',\n",
    "      root)"
   ]
  },
  {
   "cell_type": "code",
   "execution_count": 10,
   "id": "efcad76a",
   "metadata": {},
   "outputs": [
    {
     "name": "stdout",
     "output_type": "stream",
     "text": [
      "[Node(0), Node(2), Node(3), Node(4), Node(5), Node(6), Node(7), Node(11), Node(12), Node(13), Node(14)]\n"
     ]
    }
   ],
   "source": [
    "print(root.inorder)"
   ]
  },
  {
   "cell_type": "code",
   "execution_count": 11,
   "id": "098f0c23",
   "metadata": {},
   "outputs": [
    {
     "name": "stdout",
     "output_type": "stream",
     "text": [
      "[Node(6), Node(3), Node(0), Node(2), Node(5), Node(4), Node(12), Node(11), Node(7), Node(14), Node(13)]\n"
     ]
    }
   ],
   "source": [
    "print(root.preorder)"
   ]
  },
  {
   "cell_type": "code",
   "execution_count": 12,
   "id": "22ec4b8b",
   "metadata": {},
   "outputs": [
    {
     "name": "stdout",
     "output_type": "stream",
     "text": [
      "[Node(2), Node(0), Node(4), Node(5), Node(3), Node(7), Node(11), Node(13), Node(14), Node(12), Node(6)]\n"
     ]
    }
   ],
   "source": [
    "print(root.postorder)"
   ]
  },
  {
   "cell_type": "code",
   "execution_count": null,
   "id": "bc64a240",
   "metadata": {},
   "outputs": [],
   "source": []
  },
  {
   "cell_type": "code",
   "execution_count": 13,
   "id": "00d23b4f",
   "metadata": {},
   "outputs": [
    {
     "name": "stdout",
     "output_type": "stream",
     "text": [
      "1 # : 15\n"
     ]
    }
   ],
   "source": [
    "#1. ผลรวม คู่อันดับก่อนหน้าและลำดับตามหลัง root\n",
    "\n",
    "\n",
    "def TraverseTree(root):\n",
    "\n",
    "    Sum = root.left.value + root.right.value\n",
    "    return Sum\n",
    "\n",
    "Sum = TraverseTree(root)\n",
    "print(\"1 # : \" + str(Sum))"
   ]
  },
  {
   "cell_type": "code",
   "execution_count": 14,
   "id": "e2c87559",
   "metadata": {},
   "outputs": [
    {
     "name": "stdout",
     "output_type": "stream",
     "text": [
      "2 # : 77\n"
     ]
    }
   ],
   "source": [
    "#2. ผลรวมของ ต้นไม้ทั้งต้น\n",
    "\n",
    "\n",
    "def InorderTraverseTree( root): \n",
    "    if root:\n",
    "        return InorderTraverseTree(root.left) + int(root.value) + InorderTraverseTree(root.right)\n",
    "    else:\n",
    "        return 0\n",
    "\n",
    "Sum = InorderTraverseTree(root)\n",
    "print(\"2 # : \" + str(Sum))"
   ]
  },
  {
   "cell_type": "code",
   "execution_count": 15,
   "id": "befaef91",
   "metadata": {},
   "outputs": [
    {
     "name": "stdout",
     "output_type": "stream",
     "text": [
      "3 #  True\n"
     ]
    }
   ],
   "source": [
    "#3. ค้นหา โหนดในต้นไม้ ว่ามีเลขที่เราต้องการหรือไม่\n",
    "\n",
    "\n",
    "def Search(root,key):\n",
    "    if root:\n",
    "        if key == root.value:\n",
    "            return True\n",
    "        else:\n",
    "            if key > root.value:\n",
    "                return Search(root.right,key)\n",
    "            else:\n",
    "                return Search(root.left,key)\n",
    "    return False\n",
    "\n",
    "key = 14\n",
    "print(\"3 # \", Search(root,key))"
   ]
  },
  {
   "cell_type": "code",
   "execution_count": 16,
   "id": "08b496da",
   "metadata": {},
   "outputs": [
    {
     "name": "stdout",
     "output_type": "stream",
     "text": [
      "4 # The result :  14\n"
     ]
    }
   ],
   "source": [
    "#4. ผลรวมของ กิ่งซ้ายสุด และ กิ่งขวาสุด ของต้นไม้\n",
    "\n",
    "\n",
    "def SumOfLeftestAndRightest(root):\n",
    "    res = []\n",
    "    if root:\n",
    "        res = SumOfLeftestAndRightest(root.left)\n",
    "        res.append(root.value)\n",
    "        res += SumOfLeftestAndRightest(root.right)\n",
    "        #print(root.value)\n",
    "\n",
    "    return res\n",
    "\n",
    "t = SumOfLeftestAndRightest(root)\n",
    "print(\"4 #\", \"The result : \", t[0] +t[-1])"
   ]
  },
  {
   "cell_type": "code",
   "execution_count": null,
   "id": "89f64744",
   "metadata": {},
   "outputs": [],
   "source": []
  },
  {
   "cell_type": "code",
   "execution_count": null,
   "id": "5a6e477d",
   "metadata": {},
   "outputs": [],
   "source": []
  },
  {
   "cell_type": "code",
   "execution_count": null,
   "id": "ffc713ac",
   "metadata": {},
   "outputs": [],
   "source": []
  },
  {
   "cell_type": "code",
   "execution_count": null,
   "id": "2784c8b5",
   "metadata": {},
   "outputs": [],
   "source": []
  },
  {
   "cell_type": "code",
   "execution_count": null,
   "id": "cbad8a78",
   "metadata": {},
   "outputs": [],
   "source": []
  },
  {
   "cell_type": "code",
   "execution_count": null,
   "id": "602a8739",
   "metadata": {},
   "outputs": [],
   "source": []
  }
 ],
 "metadata": {
  "kernelspec": {
   "display_name": "Python 3 (ipykernel)",
   "language": "python",
   "name": "python3"
  },
  "language_info": {
   "codemirror_mode": {
    "name": "ipython",
    "version": 3
   },
   "file_extension": ".py",
   "mimetype": "text/x-python",
   "name": "python",
   "nbconvert_exporter": "python",
   "pygments_lexer": "ipython3",
   "version": "3.10.1"
  }
 },
 "nbformat": 4,
 "nbformat_minor": 5
}
