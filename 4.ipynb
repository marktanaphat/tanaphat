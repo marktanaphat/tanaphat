{
 "cells": [
  {
   "cell_type": "code",
   "execution_count": 24,
   "id": "3a9c1797",
   "metadata": {},
   "outputs": [
    {
     "name": "stdout",
     "output_type": "stream",
     "text": [
      "Perfect BST of gliven height:\n",
      " \n",
      "  __2______\n",
      " /         \\\n",
      "0         __11___\n",
      " \\       /       \\\n",
      "  1     4        _14\n",
      "       / \\      /\n",
      "      3   7    12\n",
      "\n",
      "The sum of the subtrees on the left: 1\n",
      "The sum of the subtrees on the rightt: 51\n",
      "The difference is equal to 50\n"
     ]
    }
   ],
   "source": [
    "from binarytree import  bst\n",
    "binary2 = bst(height = 3)\n",
    "print('Perfect BST of gliven height:\\n',binary2)\n",
    "\n",
    "def DifferentTree(binary2):\n",
    "     if binary2 :\n",
    "        return DifferentTree(binary2 .left) + int(binary2 .value) + DifferentTree(binary2.right)\n",
    "     else:\n",
    "        return 0\n",
    "print(\"The sum of the subtrees on the left:\" ,   DifferentTree(binary2.left))\n",
    "print(\"The sum of the subtrees on the rightt:\" , DifferentTree(binary2.right))\n",
    "print(\"The difference is equal to\" ,             DifferentTree(binary2.right)- DifferentTree(binary2.left))\n"
   ]
  },
  {
   "cell_type": "code",
   "execution_count": null,
   "id": "fc2801ee",
   "metadata": {
    "scrolled": true
   },
   "outputs": [],
   "source": []
  },
  {
   "cell_type": "code",
   "execution_count": null,
   "id": "5d9bf63c",
   "metadata": {},
   "outputs": [],
   "source": []
  },
  {
   "cell_type": "code",
   "execution_count": null,
   "id": "69d2fdbf",
   "metadata": {},
   "outputs": [],
   "source": []
  }
 ],
 "metadata": {
  "kernelspec": {
   "display_name": "Python 3 (ipykernel)",
   "language": "python",
   "name": "python3"
  },
  "language_info": {
   "codemirror_mode": {
    "name": "ipython",
    "version": 3
   },
   "file_extension": ".py",
   "mimetype": "text/x-python",
   "name": "python",
   "nbconvert_exporter": "python",
   "pygments_lexer": "ipython3",
   "version": "3.10.1"
  }
 },
 "nbformat": 4,
 "nbformat_minor": 5
}
