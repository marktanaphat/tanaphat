{
 "cells": [
  {
   "cell_type": "code",
   "execution_count": 1,
   "id": "a7a9618e",
   "metadata": {},
   "outputs": [
    {
     "name": "stdout",
     "output_type": "stream",
     "text": [
      "a\n",
      "b\n",
      "d\n",
      "e\n",
      "c\n",
      "f\n"
     ]
    },
    {
     "data": {
      "text/plain": [
       "['a', 'b', 'd', 'e', 'c', 'f']"
      ]
     },
     "execution_count": 1,
     "metadata": {},
     "output_type": "execute_result"
    }
   ],
   "source": [
    "# https://www.tutorialspoint.com/python_data_structure/python_graph_algorithms.htm\n",
    "class Graph:\n",
    "    def __init__(self,gdict=None):\n",
    "        if gdict is None:\n",
    "            gdict = {}\n",
    "        self.gdict = gdict\n",
    "        \n",
    "# Check for the visisted and unvisited nodes\n",
    "\n",
    "def dfs(graph, start):\n",
    "    visited = set()\n",
    "    traversal = []\n",
    "    stack = [start]\n",
    "    while stack:\n",
    "        vertex = stack.pop()\n",
    "        if vertex not in visited:\n",
    "            visited.add(vertex)\n",
    "            traversal.append(vertex)\n",
    "            stack.extend(reversed(graph[vertex]))\n",
    "            print(vertex)\n",
    "    return traversal\n",
    "\n",
    "gdict = { \n",
    "   \"a\" : [\"b\",\"c\"],\n",
    "   \"b\" : [\"a\", \"d\", \"e\"],\n",
    "   \"c\" : [\"a\", \"e\"],\n",
    "   \"d\" : [\"b\", \"e\", \"f\"],\n",
    "   \"e\" : [\"b\", \"c\", \"d\", \"f\"],\n",
    "   \"f\" : [\"d\", \"e\"]\n",
    "}\n",
    "\n",
    "dfs(gdict, 'a')\n",
    "\n",
    "# https://stackoverflow.com/questions/43430309/depth-first-search-dfs-code-in-python\n",
    "\n",
    "# def dfs(graph, start, visited = None):\n",
    "#     if visited is None:\n",
    "#         visited = set()\n",
    "#     visited.add(start)\n",
    "#     print(start)\n",
    "#     for next in graph[start] - visited:\n",
    "#         dfs(graph, next, visited)\n",
    "#     return visited\n",
    "\n",
    "# gdict = { \n",
    "#    \"a\" : set([\"b\",\"c\"]),\n",
    "#    \"b\" : set([\"a\", \"d\", \"e\"]),\n",
    "#    \"c\" : set([\"a\", \"e\"]),\n",
    "#    \"d\" : set([\"b\", \"e\", \"f\"]),\n",
    "#    \"e\" : set([\"b\", \"c\", \"d\", \"f\"]),\n",
    "#    \"f\" : set([\"d\", \"e\"])\n",
    "# }\n",
    "# dfs(gdict, 'a')"
   ]
  },
  {
   "cell_type": "code",
   "execution_count": 2,
   "id": "fe11c032",
   "metadata": {},
   "outputs": [
    {
     "name": "stdout",
     "output_type": "stream",
     "text": [
      "a\n",
      "b\n",
      "c\n",
      "d\n",
      "e\n",
      "f\n"
     ]
    }
   ],
   "source": [
    "import collections\n",
    "class graph:\n",
    "    def __init__(self,gdict=None):\n",
    "        if gdict is None:\n",
    "            gdict = {}\n",
    "        self.gdict = gdict\n",
    "def bfs(graph, startnode):\n",
    "# Track the visited and unvisited nodes using queue\n",
    "    seen, queue = set([startnode]), collections.deque([startnode])\n",
    "    while queue:\n",
    "        vertex = queue.popleft()\n",
    "        marked(vertex)\n",
    "        for node in graph[vertex]:\n",
    "            if node not in seen:\n",
    "                seen.add(node)\n",
    "                queue.append(node)\n",
    "\n",
    "def marked(n):\n",
    "    print(n)\n",
    "\n",
    "# The graph dictionary\n",
    "gdict = { \n",
    "   \"a\" : set([\"b\",\"c\"]),\n",
    "   \"b\" : set([\"a\", \"d\", \"e\"]),\n",
    "   \"c\" : set([\"a\", \"e\"]),\n",
    "   \"d\" : set([\"b\", \"e\", \"f\"]),\n",
    "   \"e\" : set([\"b\", \"c\", \"d\", \"f\"]),\n",
    "   \"f\" : set([\"d\", \"e\"])\n",
    "}\n",
    "bfs(gdict, \"a\")"
   ]
  },
  {
   "cell_type": "code",
   "execution_count": null,
   "id": "02d925ce",
   "metadata": {},
   "outputs": [],
   "source": []
  }
 ],
 "metadata": {
  "kernelspec": {
   "display_name": "Python 3 (ipykernel)",
   "language": "python",
   "name": "python3"
  },
  "language_info": {
   "codemirror_mode": {
    "name": "ipython",
    "version": 3
   },
   "file_extension": ".py",
   "mimetype": "text/x-python",
   "name": "python",
   "nbconvert_exporter": "python",
   "pygments_lexer": "ipython3",
   "version": "3.10.1"
  }
 },
 "nbformat": 4,
 "nbformat_minor": 5
}
