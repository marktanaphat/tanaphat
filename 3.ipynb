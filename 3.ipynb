{
 "cells": [
  {
   "cell_type": "code",
   "execution_count": 15,
   "id": "8fa34d54",
   "metadata": {},
   "outputs": [
    {
     "name": "stdout",
     "output_type": "stream",
     "text": [
      "binary tree : \n",
      "      __6____\n",
      "     /       \\\n",
      "  __4         9___\n",
      " /   \\       /    \\\n",
      "0     5     8     _13\n",
      " \\         /     /   \\\n",
      "  1       7     10    14\n",
      "\n",
      "3.1. ต้นไม้ท่อง Preorder, Inorder, Postorder\n",
      "Preoder of nodes : [Node(6), Node(4), Node(0), Node(1), Node(5), Node(9), Node(8), Node(7), Node(13), Node(10), Node(14)]\n",
      "Inorder of nodes : [Node(0), Node(1), Node(4), Node(5), Node(6), Node(7), Node(8), Node(9), Node(10), Node(13), Node(14)]\n",
      "Preoder of nodes : [Node(6), Node(4), Node(0), Node(1), Node(5), Node(9), Node(8), Node(7), Node(13), Node(10), Node(14)]\n",
      "3.2. แสดงความสูงของแผนภูมิและจํานวนโหนดแผนภูมิ\n",
      "Height of tree: 3\n",
      "Size of tree: 11\n"
     ]
    }
   ],
   "source": [
    "from binarytree import Node , bst\n",
    "A = bst(height = 3)\n",
    "print('binary tree :',A)\n",
    "print('3.1. ต้นไม้ท่อง Preorder, Inorder, Postorder' )\n",
    "print('Preoder of nodes :',A.preorder)\n",
    "print('Inorder of nodes :',A.inorder)\n",
    "print('Preoder of nodes :',A.preorder)\n",
    "print('3.2. แสดงความสูงของแผนภูมิและจํานวนโหนดแผนภูมิ')\n",
    "print('Height of tree:',A.height)\n",
    "print('Size of tree:',A.size)"
   ]
  },
  {
   "cell_type": "code",
   "execution_count": null,
   "id": "3379eb0f",
   "metadata": {},
   "outputs": [],
   "source": []
  },
  {
   "cell_type": "code",
   "execution_count": null,
   "id": "85b18921",
   "metadata": {},
   "outputs": [],
   "source": []
  }
 ],
 "metadata": {
  "kernelspec": {
   "display_name": "Python 3 (ipykernel)",
   "language": "python",
   "name": "python3"
  },
  "language_info": {
   "codemirror_mode": {
    "name": "ipython",
    "version": 3
   },
   "file_extension": ".py",
   "mimetype": "text/x-python",
   "name": "python",
   "nbconvert_exporter": "python",
   "pygments_lexer": "ipython3",
   "version": "3.10.1"
  }
 },
 "nbformat": 4,
 "nbformat_minor": 5
}
